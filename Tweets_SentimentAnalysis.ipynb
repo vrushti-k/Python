{
 "cells": [
  {
   "cell_type": "markdown",
   "id": "05ba12ed",
   "metadata": {},
   "source": [
    "# <div class=\"alert alert-block alert-info\"> Sentimental Analysis of Donald Trump's tweets </div>"
   ]
  },
  {
   "cell_type": "code",
   "execution_count": 1,
   "id": "ba497be3",
   "metadata": {},
   "outputs": [],
   "source": [
    "import re"
   ]
  },
  {
   "cell_type": "code",
   "execution_count": 2,
   "id": "2c97a3c0",
   "metadata": {},
   "outputs": [],
   "source": [
    "from IPython.core.interactiveshell import InteractiveShell\n",
    "InteractiveShell.ast_node_interactivity = \"all\""
   ]
  },
  {
   "cell_type": "code",
   "execution_count": 3,
   "id": "ad788527",
   "metadata": {},
   "outputs": [
    {
     "name": "stdout",
     "output_type": "stream",
     "text": [
      "Total number of words after data cleaning:  56264\n"
     ]
    }
   ],
   "source": [
    "tweets_file = open('Trump_Raw_Tweets_Fall22.txt','r')\n",
    "\n",
    "dictionary={}\n",
    "lines=[]\n",
    "for line in tweets_file:\n",
    "    lower_line=line.lower()\n",
    "    no_url_line = re.sub(r'http\\S+|\\'b\\'|\"b\\'|\\'b\"',r'', lower_line)   #removes URLs and irrelevant text\n",
    "    no_unicode_line=re.sub(r'\\\\xe2\\\\x80\\\\x99',\"'\",no_url_line)  #replaced unicode quote value with quote\n",
    "    no_unicode_line=re.sub(r'\\\\x[0-9a-f]{2}',r'',no_unicode_line)   #removes unicode characters\n",
    "    lines.extend(no_unicode_line.split('\\\\n')) #splits text file from '\\n' into multi lines\n",
    "    \n",
    "    \n",
    "#Removes punctuations from line and splits lines to form dictionary containing all words and their count    \n",
    "for line in lines: \n",
    "    list1=line.strip().split()\n",
    "    for w in list1:\n",
    "        w1=w.strip(\"-\\(.!,?\\) '\\\"/:_;\\\\\")\n",
    "        if len(w1)> 0:\n",
    "            if w1 not in dictionary:\n",
    "                dictionary[w1]=1\n",
    "            else:\n",
    "                dictionary[w1]=dictionary[w1]+1\n",
    "                \n",
    "                \n",
    "total_words=0\n",
    "for v in dictionary.values():\n",
    "    total_words+=v\n",
    "print('Total number of words after data cleaning: ', total_words)"
   ]
  },
  {
   "cell_type": "code",
   "execution_count": 4,
   "id": "8164b29d",
   "metadata": {},
   "outputs": [
    {
     "name": "stdout",
     "output_type": "stream",
     "text": [
      "Unique stop words: 586\n",
      "Total stop words:  28221\n"
     ]
    }
   ],
   "source": [
    "#Removing stop words from dictionary\n",
    "\n",
    "stop_file = open('stop_words.txt','r')\n",
    "stop_words=set()\n",
    "for line in stop_file:\n",
    "    stop_words.add(line.rstrip('\\n'))\n",
    "    \n",
    "unique_stop=0\n",
    "total_stop=0\n",
    "for s in stop_words:\n",
    "    if len(s) == 0 or s in dictionary:\n",
    "        total_stop+=dictionary[s]\n",
    "        del dictionary[s]\n",
    "        unique_stop+=1\n",
    "\n",
    "print('Unique stop words:',unique_stop)\n",
    "print('Total stop words: ', total_stop)"
   ]
  },
  {
   "cell_type": "code",
   "execution_count": 5,
   "id": "6c93f540",
   "metadata": {},
   "outputs": [
    {
     "name": "stdout",
     "output_type": "stream",
     "text": [
      "Word count after removing stop words:  28043\n"
     ]
    }
   ],
   "source": [
    "#Word count after removing stop words\n",
    "\n",
    "word_count_without_stopwords=0\n",
    "for v in dictionary.values():\n",
    "    word_count_without_stopwords+=v\n",
    "\n",
    "print('Word count after removing stop words: ', word_count_without_stopwords)"
   ]
  },
  {
   "cell_type": "code",
   "execution_count": 6,
   "id": "2bdb4fd3",
   "metadata": {},
   "outputs": [
    {
     "name": "stdout",
     "output_type": "stream",
     "text": [
      "Unique positive words: 211\n",
      "Total positive words:  2611\n",
      "Unique negative words: -479\n",
      "Total negative words:  -2346\n",
      "Unique other words:  4834\n",
      "Total other words:  23086\n"
     ]
    }
   ],
   "source": [
    "#Counting number of positive, negative and other words\n",
    "\n",
    "positive_file = open('positive.txt','r')\n",
    "positive_words=set()\n",
    "for line in positive_file:\n",
    "    positive_words.add(line.rstrip('\\n'))\n",
    "unique_positive=0\n",
    "total_positive=0\n",
    "\n",
    "negative_file = open('negative.txt','r')\n",
    "negative_words=set()\n",
    "for line in negative_file:\n",
    "    negative_words.add(line.rstrip('\\n'))\n",
    "unique_negative=0\n",
    "total_negative=0\n",
    "\n",
    "unique_others=0\n",
    "total_others=0\n",
    "\n",
    "for d in dictionary:\n",
    "    if d in positive_words:\n",
    "        unique_positive+=1\n",
    "        total_positive+=dictionary[d]\n",
    "    elif d in negative_words:\n",
    "        unique_negative-=1\n",
    "        total_negative-=dictionary[d]\n",
    "    else:\n",
    "        unique_others+=1\n",
    "        total_others+=dictionary[d]\n",
    "        \n",
    "print('Unique positive words:', unique_positive)\n",
    "print('Total positive words: ', total_positive)\n",
    "\n",
    "print('Unique negative words:',unique_negative)\n",
    "print('Total negative words: ', total_negative)\n",
    "\n",
    "print('Unique other words: ',unique_others)\n",
    "print('Total other words: ', total_others)"
   ]
  },
  {
   "cell_type": "code",
   "execution_count": 7,
   "id": "fcf59d8d",
   "metadata": {},
   "outputs": [
    {
     "name": "stdout",
     "output_type": "stream",
     "text": [
      "56264\n"
     ]
    }
   ],
   "source": [
    "#Checking total\n",
    "\n",
    "total2 = total_positive+abs(total_negative)+total_others+total_stop\n",
    "print(total2)"
   ]
  },
  {
   "cell_type": "markdown",
   "id": "4fb9c828",
   "metadata": {},
   "source": [
    "## <div class=\"alert alert-block alert-info\"> Ratio:</div>"
   ]
  },
  {
   "cell_type": "code",
   "execution_count": 8,
   "id": "6bf355ab",
   "metadata": {},
   "outputs": [
    {
     "name": "stdout",
     "output_type": "stream",
     "text": [
      "Ratio of positive words to total words:  0.046\n",
      "Ratio of negative to total words:  0.042\n",
      "Ratio of stop words to total words:  0.502\n",
      "Ratio of other words to total words:  0.41\n",
      "Ratio of positive words to negative words:  1.113\n"
     ]
    }
   ],
   "source": [
    "def ratio(a,b):\n",
    "    r = (a/b)\n",
    "    return round(r, 3)\n",
    "\n",
    "print('Ratio of positive words to total words: ', ratio(total_positive,total_words))\n",
    "\n",
    "print('Ratio of negative to total words: ', ratio(abs(total_negative), total_words))\n",
    "\n",
    "print('Ratio of stop words to total words: ', ratio(total_stop, total_words))\n",
    "\n",
    "print('Ratio of other words to total words: ', ratio(total_others, total_words))\n",
    "\n",
    "print('Ratio of positive words to negative words: ', ratio(total_positive, abs(total_negative)))"
   ]
  },
  {
   "cell_type": "code",
   "execution_count": 9,
   "id": "9ca187ae",
   "metadata": {},
   "outputs": [],
   "source": [
    "#Closing files\n",
    "\n",
    "positive_file.close()\n",
    "negative_file.close()\n",
    "stop_file.close()\n",
    "tweets_file.close()"
   ]
  },
  {
   "cell_type": "markdown",
   "id": "178ed31d",
   "metadata": {},
   "source": [
    "## <div class=\"alert alert-block alert-info\">Analysis: </div> "
   ]
  },
  {
   "cell_type": "markdown",
   "id": "0d522957",
   "metadata": {},
   "source": [
    "1. What’s the word count for positive/negative/stop word/others?\n",
    "\n",
    "    - Positive words: 2611\n",
    "    - Negative words: 2346\n",
    "    - Stop words: 28221\n",
    "    - Other words: 23086\n",
    "    \n",
    "    \n",
    "2. What’s the ratio of positive/negative/stop word/others compare to the total word count?\n",
    "\n",
    "    - Ratio of positive words to total words: 0.046\n",
    "    - Ratio of negative words to total words: 0.042\n",
    "    - Ratio of stop words to total words: 0.502\n",
    "    - Ratio of other words to total words: 0.41\n",
    "    \n",
    "    \n",
    "3. What’s the ratio for positive vs negative word count?\n",
    "\n",
    "    - Ratio of positive to negative words: 1.113\n",
    "    \n",
    "    \n",
    "4. Do you think that the general sentiment is negative or positive? Weakly or strongly?\n",
    "\n",
    "    - The positive sentiment score is 2611 and negative sentiment score is -2346. Here, positive sentiment score is more than negative sentiment score which is also reflected in their ratio, i.e., 1.113. This means that positive sentiment is more by 11.3% than negative sentiment which meakes a weak inclination towards positive sentiments."
   ]
  },
  {
   "cell_type": "markdown",
   "id": "9f49303b",
   "metadata": {},
   "source": [
    "## <div class=\"alert alert-block alert-info\">Conclusion: </div> "
   ]
  },
  {
   "cell_type": "markdown",
   "id": "e257a5d8",
   "metadata": {},
   "source": [
    "From above analysis it can be said that the overall sentimental analysis of this data set is positive. However, this analysis is only based on calculations and not on analyzing real sentiment behind each word or phrases. For example, 'He is not bad.' This line has a positive meaning but uses two negative words. \n",
    "Also, the fundamental flaw in this problem is the word 'trump'. Trump itself is a negative word which distorts the sentiment analysis to some extent. "
   ]
  },
  {
   "cell_type": "code",
   "execution_count": null,
   "id": "0401f3f2",
   "metadata": {},
   "outputs": [],
   "source": []
  }
 ],
 "metadata": {
  "kernelspec": {
   "display_name": "Python 3 (ipykernel)",
   "language": "python",
   "name": "python3"
  },
  "language_info": {
   "codemirror_mode": {
    "name": "ipython",
    "version": 3
   },
   "file_extension": ".py",
   "mimetype": "text/x-python",
   "name": "python",
   "nbconvert_exporter": "python",
   "pygments_lexer": "ipython3",
   "version": "3.9.16"
  }
 },
 "nbformat": 4,
 "nbformat_minor": 5
}
